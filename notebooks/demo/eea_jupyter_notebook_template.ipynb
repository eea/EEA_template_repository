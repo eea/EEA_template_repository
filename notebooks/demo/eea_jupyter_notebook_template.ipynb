{
 "cells": [
  {
   "cell_type": "markdown",
   "metadata": {},
   "source": [
    "EEA Jupyter templade \n",
    "v0.1\n",
    "--\n",
    "\n",
    "Authors:  Manuel Löhnertz (space4environment)\n",
    "\n",
    "Scope\n",
    "Showing best practise \n",
    "\n",
    "Data\n",
    "--\n",
    "\n",
    "Requirements\n",
    "--"
   ]
  },
  {
   "cell_type": "code",
   "execution_count": 1,
   "metadata": {},
   "outputs": [
    {
     "name": "stdout",
     "output_type": "stream",
     "text": [
      "Hello CWS user\n"
     ]
    }
   ],
   "source": [
    "###\n",
    "\n",
    "print (\"Hello CWS user\")"
   ]
  }
 ],
 "metadata": {
  "kernelspec": {
   "display_name": "Python 3 (ipykernel)",
   "language": "python",
   "name": "python3"
  },
  "orig_nbformat": 4
 },
 "nbformat": 4,
 "nbformat_minor": 2
}
