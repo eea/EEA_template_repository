{
 "cells": [
  {
   "cell_type": "markdown",
   "metadata": {},
   "source": [
    "EEA Jupyter templade \n",
    "v0.1\n",
    "--\n",
    "\n",
    "Authors:  Manuel Löhnertz (space4environment)\n",
    "\n",
    "Scope\n",
    "Showing best practise \n",
    "\n",
    "Data\n",
    "--\n",
    "\n",
    "Requirements\n",
    "--"
   ]
  },
  {
   "cell_type": "code",
   "execution_count": 1,
   "metadata": {},
   "outputs": [
    {
     "name": "stdout",
     "output_type": "stream",
     "text": [
      "Hello CWS user\n"
     ]
    }
   ],
   "source": [
    "###\n",
    "\n",
    "print (\"Hello CWS user\")"
   ]
  },
  {
   "cell_type": "markdown",
   "metadata": {},
   "source": [
    "# 1) How can I read in a config file"
   ]
  },
  {
   "cell_type": "code",
   "execution_count": 4,
   "metadata": {},
   "outputs": [
    {
     "name": "stdout",
     "output_type": "stream",
     "text": [
      "----------------------------------------------------------------\n"
     ]
    }
   ],
   "source": [
    "## How can I read in a config file:\n",
    "## the following script shows an example for reading config files from your CWS-profile:\n",
    "\n",
    "# Reading libaries and start a test-connection to different MS-SQL Server:\n",
    "# Reading libaries and start a test-connection to different MS-SQL Server:\n",
    "\n",
    "import json\n",
    "from configparser import ConfigParser\n",
    "\n",
    "\n",
    "\n",
    "\n",
    "\n",
    "##########################\n",
    "### SET conection to MS-sql server :\n",
    "\n",
    "################################################## read database keys for EEA-MS-SERVER_GRxxxx:\n",
    "def config(filename, section='EEA-MS-SERVER_GRxxxx'):\n",
    "    # create a parser\n",
    "    parser = ConfigParser()\n",
    "    # read config file\n",
    "    parser.read(filename)\n",
    "\n",
    "    # get section, default to postgresql\n",
    "    db = {}\n",
    "    if parser.has_section(section):\n",
    "        params = parser.items(section)\n",
    "        for param in params:\n",
    "            db[param[0]] = param[1]\n",
    "    else:\n",
    "        raise Exception(\n",
    "            'Section {0} not found in the {1} file'.format(section, filename))\n",
    "\n",
    "    return db\n",
    "\n",
    "keys = config(filename='..//..//database_config.ini')  #database.ini\n",
    "SERVER=                keys['server']\n",
    "Database_name =        keys['database']\n",
    "USER =                 keys['user']\n",
    "PSW =                  keys['password']\n",
    "\n",
    "##################################################\n",
    "\n",
    "\n",
    "\n",
    "\n",
    "print (\"----------------------------------------------------------------\")\n",
    "\n",
    "\n"
   ]
  }
 ],
 "metadata": {
  "kernelspec": {
   "display_name": "Python 3 (ipykernel)",
   "language": "python",
   "name": "python3"
  },
  "language_info": {
   "codemirror_mode": {
    "name": "ipython",
    "version": 3
   },
   "file_extension": ".py",
   "mimetype": "text/x-python",
   "name": "python",
   "nbconvert_exporter": "python",
   "pygments_lexer": "ipython3",
   "version": "3.9.16"
  },
  "orig_nbformat": 4
 },
 "nbformat": 4,
 "nbformat_minor": 2
}
